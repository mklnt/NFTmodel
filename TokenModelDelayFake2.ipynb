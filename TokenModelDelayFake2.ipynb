{
 "cells": [
  {
   "cell_type": "code",
   "execution_count": 1,
   "id": "23ae6078",
   "metadata": {},
   "outputs": [],
   "source": [
    "from pylab import *\n",
    "%matplotlib inline\n",
    "import warnings\n",
    "warnings.filterwarnings('ignore')"
   ]
  },
  {
   "cell_type": "code",
   "execution_count": 2,
   "id": "79cece37",
   "metadata": {},
   "outputs": [],
   "source": [
    "\n",
    "#time which we want to analyze\n",
    "Y=2. # number of years\n",
    "dY=52. # intervals of years (supposing equal onboarding probability throughout the year)\n",
    "\n",
    "#Average € per investors\n",
    "T=10000 #average € investment per company\n",
    "tokenscale=1000000 #resize € scale\n",
    "Threshold=5000000/tokenscale #initial tokens\n",
    "Goal =400 #Threshold of companies in a field"
   ]
  },
  {
   "cell_type": "code",
   "execution_count": 3,
   "id": "515f8946",
   "metadata": {},
   "outputs": [],
   "source": [
    "#stuff needed for the program to run\n",
    "\n",
    "S=int(Y*dY) # number of steps\n",
    "Years=[0]*S\n",
    "#N=[0]*S\n",
    "# Inv=[0]*S #new investors\n",
    "# InvTot=[0]*(S+2)  #total investors\n",
    "rev=[0]*S #Total revenue\n",
    "for t in range(0,S):\n",
    "    Years[t]=t/dY #+2022\n",
    "\n",
    "def show(InvTot):\n",
    "     return plot(InvTot[S+1],InvTot[S], marker=\"o\", markersize=5 )#,axvline(x=InvTot[S+1], ymin=0.0, ymax=Goal)"
   ]
  },
  {
   "cell_type": "code",
   "execution_count": 4,
   "id": "a4c43a90",
   "metadata": {},
   "outputs": [],
   "source": [
    "#N[1-e^(-t*R)]  where N is the total number of companies and R is the probability they join\n",
    "def model(ind):\n",
    "    #introduce delay\n",
    "    Delay=1+int(ind[2]*dY)\n",
    "    #clean new arrays\n",
    "    Inv=[0]*S #new investors\n",
    "    InvTot=[0]*(S) #Total investors per time\n",
    "    N=[0]*S #Number of total companies remaining\n",
    "    #initialize them\n",
    "    N[Delay-1]=ind[0]*ind[1] # the possible inverstors are the percentage on the total companies\n",
    "    Inv[0]=0\n",
    "    R=ind[1]/5  #we assume investors decide in the first 5 years equally distributed \n",
    "    #Delay=1+int(ind[2]*dY)\n",
    "    #print(Delay)\n",
    "    for t in range(Delay,S):\n",
    "        #R=R+(randn()/1000)     ## uncomment to add fluctuations\n",
    "        Inv[t]=N[t-1]*R\n",
    "        InvTot[t]=(InvTot[t-1] + Inv[t])   \n",
    "        N[t]=(N[t-1] - Inv[t]) \n",
    "        rev[t]=InvTot[t]*(T/tokenscale) +rev[t]\n",
    "        R=R + InvTot[t]/10000\n",
    "#When do we reach the goal of investors in each industry?        \n",
    "#         if InvTot[t] <= Goal:  \n",
    "#             InvTot[S]=InvTot[t]\n",
    "#             InvTot[S+1]=t/dY \n",
    "#     #show(InvTot)        \n",
    "    return InvTot #number of total investors per period of time"
   ]
  },
  {
   "cell_type": "code",
   "execution_count": 5,
   "id": "4d8abd21",
   "metadata": {},
   "outputs": [],
   "source": [
    "#All the scenarios have the following suppositions\n",
    "#1: given an industry, we expect the 10% of companies to join\n",
    "#2: The investors are spread in a 5 years periods\n"
   ]
  },
  {
   "cell_type": "code",
   "execution_count": 6,
   "id": "01f8cae0",
   "metadata": {},
   "outputs": [],
   "source": [
    "#Scenario 1(WCS): only Juice industry joins"
   ]
  },
  {
   "cell_type": "code",
   "execution_count": 7,
   "id": "2c50c0d1",
   "metadata": {},
   "outputs": [
    {
     "ename": "ValueError",
     "evalue": "x and y must have same first dimension, but have shapes (104,) and (102,)",
     "output_type": "error",
     "traceback": [
      "\u001b[0;31m---------------------------------------------------------------------------\u001b[0m",
      "\u001b[0;31mValueError\u001b[0m                                Traceback (most recent call last)",
      "Input \u001b[0;32mIn [7]\u001b[0m, in \u001b[0;36m<cell line: 5>\u001b[0;34m()\u001b[0m\n\u001b[1;32m      3\u001b[0m fig\u001b[38;5;241m=\u001b[39mfigure(figsize\u001b[38;5;241m=\u001b[39m(\u001b[38;5;241m20\u001b[39m,\u001b[38;5;241m10\u001b[39m))\n\u001b[1;32m      4\u001b[0m JuicyChain\u001b[38;5;241m=\u001b[39mmodel(Juice)\n\u001b[0;32m----> 5\u001b[0m \u001b[43mplot\u001b[49m\u001b[43m(\u001b[49m\u001b[43mYears\u001b[49m\u001b[43m,\u001b[49m\u001b[43m \u001b[49m\u001b[43mJuicyChain\u001b[49m\u001b[43m[\u001b[49m\u001b[38;5;241;43m0\u001b[39;49m\u001b[43m:\u001b[49m\u001b[38;5;241;43m-\u001b[39;49m\u001b[38;5;241;43m2\u001b[39;49m\u001b[43m]\u001b[49m\u001b[43m \u001b[49m\u001b[43m,\u001b[49m\u001b[43m \u001b[49m\u001b[43mlabel\u001b[49m\u001b[38;5;241;43m=\u001b[39;49m\u001b[38;5;124;43m\"\u001b[39;49m\u001b[38;5;124;43mJuicychain\u001b[39;49m\u001b[38;5;124;43m\"\u001b[39;49m\u001b[43m \u001b[49m\u001b[43m)\u001b[49m\n\u001b[1;32m      6\u001b[0m xlabel(\u001b[38;5;124m\"\u001b[39m\u001b[38;5;124mYears\u001b[39m\u001b[38;5;124m\"\u001b[39m)\n\u001b[1;32m      7\u001b[0m ylabel(\u001b[38;5;124m\"\u001b[39m\u001b[38;5;124mInvestors\u001b[39m\u001b[38;5;124m\"\u001b[39m)\n",
      "File \u001b[0;32m~/Documents/jupyternotebook/jupyterenv/lib/python3.8/site-packages/matplotlib/pyplot.py:2769\u001b[0m, in \u001b[0;36mplot\u001b[0;34m(scalex, scaley, data, *args, **kwargs)\u001b[0m\n\u001b[1;32m   2767\u001b[0m \u001b[38;5;129m@_copy_docstring_and_deprecators\u001b[39m(Axes\u001b[38;5;241m.\u001b[39mplot)\n\u001b[1;32m   2768\u001b[0m \u001b[38;5;28;01mdef\u001b[39;00m \u001b[38;5;21mplot\u001b[39m(\u001b[38;5;241m*\u001b[39margs, scalex\u001b[38;5;241m=\u001b[39m\u001b[38;5;28;01mTrue\u001b[39;00m, scaley\u001b[38;5;241m=\u001b[39m\u001b[38;5;28;01mTrue\u001b[39;00m, data\u001b[38;5;241m=\u001b[39m\u001b[38;5;28;01mNone\u001b[39;00m, \u001b[38;5;241m*\u001b[39m\u001b[38;5;241m*\u001b[39mkwargs):\n\u001b[0;32m-> 2769\u001b[0m     \u001b[38;5;28;01mreturn\u001b[39;00m \u001b[43mgca\u001b[49m\u001b[43m(\u001b[49m\u001b[43m)\u001b[49m\u001b[38;5;241;43m.\u001b[39;49m\u001b[43mplot\u001b[49m\u001b[43m(\u001b[49m\n\u001b[1;32m   2770\u001b[0m \u001b[43m        \u001b[49m\u001b[38;5;241;43m*\u001b[39;49m\u001b[43margs\u001b[49m\u001b[43m,\u001b[49m\u001b[43m \u001b[49m\u001b[43mscalex\u001b[49m\u001b[38;5;241;43m=\u001b[39;49m\u001b[43mscalex\u001b[49m\u001b[43m,\u001b[49m\u001b[43m \u001b[49m\u001b[43mscaley\u001b[49m\u001b[38;5;241;43m=\u001b[39;49m\u001b[43mscaley\u001b[49m\u001b[43m,\u001b[49m\n\u001b[1;32m   2771\u001b[0m \u001b[43m        \u001b[49m\u001b[38;5;241;43m*\u001b[39;49m\u001b[38;5;241;43m*\u001b[39;49m\u001b[43m(\u001b[49m\u001b[43m{\u001b[49m\u001b[38;5;124;43m\"\u001b[39;49m\u001b[38;5;124;43mdata\u001b[39;49m\u001b[38;5;124;43m\"\u001b[39;49m\u001b[43m:\u001b[49m\u001b[43m \u001b[49m\u001b[43mdata\u001b[49m\u001b[43m}\u001b[49m\u001b[43m \u001b[49m\u001b[38;5;28;43;01mif\u001b[39;49;00m\u001b[43m \u001b[49m\u001b[43mdata\u001b[49m\u001b[43m \u001b[49m\u001b[38;5;129;43;01mis\u001b[39;49;00m\u001b[43m \u001b[49m\u001b[38;5;129;43;01mnot\u001b[39;49;00m\u001b[43m \u001b[49m\u001b[38;5;28;43;01mNone\u001b[39;49;00m\u001b[43m \u001b[49m\u001b[38;5;28;43;01melse\u001b[39;49;00m\u001b[43m \u001b[49m\u001b[43m{\u001b[49m\u001b[43m}\u001b[49m\u001b[43m)\u001b[49m\u001b[43m,\u001b[49m\u001b[43m \u001b[49m\u001b[38;5;241;43m*\u001b[39;49m\u001b[38;5;241;43m*\u001b[39;49m\u001b[43mkwargs\u001b[49m\u001b[43m)\u001b[49m\n",
      "File \u001b[0;32m~/Documents/jupyternotebook/jupyterenv/lib/python3.8/site-packages/matplotlib/axes/_axes.py:1632\u001b[0m, in \u001b[0;36mAxes.plot\u001b[0;34m(self, scalex, scaley, data, *args, **kwargs)\u001b[0m\n\u001b[1;32m   1390\u001b[0m \u001b[38;5;124;03m\"\"\"\u001b[39;00m\n\u001b[1;32m   1391\u001b[0m \u001b[38;5;124;03mPlot y versus x as lines and/or markers.\u001b[39;00m\n\u001b[1;32m   1392\u001b[0m \n\u001b[0;32m   (...)\u001b[0m\n\u001b[1;32m   1629\u001b[0m \u001b[38;5;124;03m(``'green'``) or hex strings (``'#008000'``).\u001b[39;00m\n\u001b[1;32m   1630\u001b[0m \u001b[38;5;124;03m\"\"\"\u001b[39;00m\n\u001b[1;32m   1631\u001b[0m kwargs \u001b[38;5;241m=\u001b[39m cbook\u001b[38;5;241m.\u001b[39mnormalize_kwargs(kwargs, mlines\u001b[38;5;241m.\u001b[39mLine2D)\n\u001b[0;32m-> 1632\u001b[0m lines \u001b[38;5;241m=\u001b[39m [\u001b[38;5;241m*\u001b[39m\u001b[38;5;28mself\u001b[39m\u001b[38;5;241m.\u001b[39m_get_lines(\u001b[38;5;241m*\u001b[39margs, data\u001b[38;5;241m=\u001b[39mdata, \u001b[38;5;241m*\u001b[39m\u001b[38;5;241m*\u001b[39mkwargs)]\n\u001b[1;32m   1633\u001b[0m \u001b[38;5;28;01mfor\u001b[39;00m line \u001b[38;5;129;01min\u001b[39;00m lines:\n\u001b[1;32m   1634\u001b[0m     \u001b[38;5;28mself\u001b[39m\u001b[38;5;241m.\u001b[39madd_line(line)\n",
      "File \u001b[0;32m~/Documents/jupyternotebook/jupyterenv/lib/python3.8/site-packages/matplotlib/axes/_base.py:312\u001b[0m, in \u001b[0;36m_process_plot_var_args.__call__\u001b[0;34m(self, data, *args, **kwargs)\u001b[0m\n\u001b[1;32m    310\u001b[0m     this \u001b[38;5;241m+\u001b[39m\u001b[38;5;241m=\u001b[39m args[\u001b[38;5;241m0\u001b[39m],\n\u001b[1;32m    311\u001b[0m     args \u001b[38;5;241m=\u001b[39m args[\u001b[38;5;241m1\u001b[39m:]\n\u001b[0;32m--> 312\u001b[0m \u001b[38;5;28;01myield from\u001b[39;00m \u001b[38;5;28;43mself\u001b[39;49m\u001b[38;5;241;43m.\u001b[39;49m\u001b[43m_plot_args\u001b[49m\u001b[43m(\u001b[49m\u001b[43mthis\u001b[49m\u001b[43m,\u001b[49m\u001b[43m \u001b[49m\u001b[43mkwargs\u001b[49m\u001b[43m)\u001b[49m\n",
      "File \u001b[0;32m~/Documents/jupyternotebook/jupyterenv/lib/python3.8/site-packages/matplotlib/axes/_base.py:498\u001b[0m, in \u001b[0;36m_process_plot_var_args._plot_args\u001b[0;34m(self, tup, kwargs, return_kwargs)\u001b[0m\n\u001b[1;32m    495\u001b[0m     \u001b[38;5;28mself\u001b[39m\u001b[38;5;241m.\u001b[39maxes\u001b[38;5;241m.\u001b[39myaxis\u001b[38;5;241m.\u001b[39mupdate_units(y)\n\u001b[1;32m    497\u001b[0m \u001b[38;5;28;01mif\u001b[39;00m x\u001b[38;5;241m.\u001b[39mshape[\u001b[38;5;241m0\u001b[39m] \u001b[38;5;241m!=\u001b[39m y\u001b[38;5;241m.\u001b[39mshape[\u001b[38;5;241m0\u001b[39m]:\n\u001b[0;32m--> 498\u001b[0m     \u001b[38;5;28;01mraise\u001b[39;00m \u001b[38;5;167;01mValueError\u001b[39;00m(\u001b[38;5;124mf\u001b[39m\u001b[38;5;124m\"\u001b[39m\u001b[38;5;124mx and y must have same first dimension, but \u001b[39m\u001b[38;5;124m\"\u001b[39m\n\u001b[1;32m    499\u001b[0m                      \u001b[38;5;124mf\u001b[39m\u001b[38;5;124m\"\u001b[39m\u001b[38;5;124mhave shapes \u001b[39m\u001b[38;5;132;01m{\u001b[39;00mx\u001b[38;5;241m.\u001b[39mshape\u001b[38;5;132;01m}\u001b[39;00m\u001b[38;5;124m and \u001b[39m\u001b[38;5;132;01m{\u001b[39;00my\u001b[38;5;241m.\u001b[39mshape\u001b[38;5;132;01m}\u001b[39;00m\u001b[38;5;124m\"\u001b[39m)\n\u001b[1;32m    500\u001b[0m \u001b[38;5;28;01mif\u001b[39;00m x\u001b[38;5;241m.\u001b[39mndim \u001b[38;5;241m>\u001b[39m \u001b[38;5;241m2\u001b[39m \u001b[38;5;129;01mor\u001b[39;00m y\u001b[38;5;241m.\u001b[39mndim \u001b[38;5;241m>\u001b[39m \u001b[38;5;241m2\u001b[39m:\n\u001b[1;32m    501\u001b[0m     \u001b[38;5;28;01mraise\u001b[39;00m \u001b[38;5;167;01mValueError\u001b[39;00m(\u001b[38;5;124mf\u001b[39m\u001b[38;5;124m\"\u001b[39m\u001b[38;5;124mx and y can be no greater than 2D, but have \u001b[39m\u001b[38;5;124m\"\u001b[39m\n\u001b[1;32m    502\u001b[0m                      \u001b[38;5;124mf\u001b[39m\u001b[38;5;124m\"\u001b[39m\u001b[38;5;124mshapes \u001b[39m\u001b[38;5;132;01m{\u001b[39;00mx\u001b[38;5;241m.\u001b[39mshape\u001b[38;5;132;01m}\u001b[39;00m\u001b[38;5;124m and \u001b[39m\u001b[38;5;132;01m{\u001b[39;00my\u001b[38;5;241m.\u001b[39mshape\u001b[38;5;132;01m}\u001b[39;00m\u001b[38;5;124m\"\u001b[39m)\n",
      "\u001b[0;31mValueError\u001b[0m: x and y must have same first dimension, but have shapes (104,) and (102,)"
     ]
    },
    {
     "data": {
      "image/png": "[encoded data removed]",
      "text/plain": [
       "<Figure size 1440x720 with 1 Axes>"
      ]
     },
     "metadata": {
      "needs_background": "light"
     },
     "output_type": "display_data"
    }
   ],
   "source": [
    "Juice=[5000,1/10,0.]\n",
    "rev=[0]*S\n",
    "fig=figure(figsize=(20,10))\n",
    "JuicyChain=model(Juice)\n",
    "plot(Years, JuicyChain[0:-2] , label=\"Juicychain\" )\n",
    "xlabel(\"Years\")\n",
    "ylabel(\"Investors\")\n",
    "legend(frameon=False)\n",
    "axes=fig.add_axes([0.50, 0.2, 0.4, 0.5])\n",
    "axes.plot(Years, rev, color='r')\n",
    "axes.axhline(y=Threshold*(1-Juice[1]),color='b')\n",
    "axes.text(1.,Threshold +1,'4.5 Millions')\n",
    "xlabel(\"Years\")\n",
    "ylabel(str(tokenscale)+\" €\")\n",
    "tight_layout()"
   ]
  },
  {
   "cell_type": "code",
   "execution_count": null,
   "id": "439a9e8f",
   "metadata": {},
   "outputs": [],
   "source": [
    "#Scenario 2(Base): simultaneously 3 industries join (Juice, Soy, Fish)"
   ]
  },
  {
   "cell_type": "code",
   "execution_count": null,
   "id": "36844390",
   "metadata": {},
   "outputs": [],
   "source": [
    "Juice      =       [   5000    ,   1/10  ,   0.    ]\n",
    "Soy        =       [   7000    ,   1/10  ,   0.    ]\n",
    "Fish       =       [   12000   ,   1/10  ,   0.    ]\n",
    "rev=[0]*S\n",
    "fig=figure(figsize=(20,10))\n",
    "JuicyChain=model(Juice)\n",
    "plot(Years, JuicyChain[0:-2] , label=\"Juicychain\" )\n",
    "SoyChain=model(Soy)\n",
    "plot(Years, SoyChain[0:-2], label=\"SoyChain\")\n",
    "FishChain=model(Fish)\n",
    "plot(Years, FishChain[0:-2], label=\"FishChain\")\n",
    "xlabel(\"Years\")\n",
    "ylabel(\"Investors\")\n",
    "legend(frameon=False)\n",
    "axes=fig.add_axes([0.6, 0.0, 0.28, 0.35])\n",
    "axes.plot(Years, rev, color='r')\n",
    "axes.axhline(y=Threshold,color='b')\n",
    "axes.text(1.,Threshold +1,'5 Millions')\n",
    "xlabel(\"Years\")\n",
    "ylabel(str(tokenscale)+\" €\")\n",
    "tight_layout()"
   ]
  },
  {
   "cell_type": "code",
   "execution_count": null,
   "id": "87b1be72",
   "metadata": {},
   "outputs": [],
   "source": [
    "#Scenario 2.5(Base): 3 industries join with launches each year "
   ]
  },
  {
   "cell_type": "code",
   "execution_count": null,
   "id": "d619a6eb",
   "metadata": {},
   "outputs": [],
   "source": [
    "Juice      =       [   5000    ,   1/10  ,   0.    ]\n",
    "Soy        =       [   7000    ,   1/10  ,   1.    ]\n",
    "Fish       =       [   12000   ,   1/10  ,   1.5    ]\n",
    "rev=[0]*S\n",
    "fig=figure(figsize=(20,10))\n",
    "JuicyChain=model(Juice)\n",
    "plot(Years, JuicyChain[0:-2] , label=\"Juicychain\" , color=\"orange\")\n",
    "SoyChain=model(Soy)\n",
    "plot(Years, SoyChain[0:-2], label=\"SoyChain\", color=\"green\")\n",
    "FishChain=model(Fish)\n",
    "plot(Years, FishChain[0:-2], label=\"FishChain\", color=\"blue\")\n",
    "xlabel(\"Years\")\n",
    "ylabel(\"Investors\")\n",
    "legend(frameon=False)\n",
    "axes=fig.add_axes([0.13, 0.6, 0.28, 0.35])\n",
    "axes.plot(Years, rev, color='r')\n",
    "axes.axhline(y=Threshold,color='b')\n",
    "axes.text(1.,Threshold +1,'5 Millions')\n",
    "xlabel(\"Years\")\n",
    "ylabel(str(tokenscale)+\" €\")\n",
    "tight_layout()"
   ]
  },
  {
   "cell_type": "code",
   "execution_count": null,
   "id": "eb11d2f0",
   "metadata": {},
   "outputs": [],
   "source": [
    "#Scenario 3(BCS): 6 companies join simultaneously"
   ]
  },
  {
   "cell_type": "code",
   "execution_count": null,
   "id": "74f8ab03",
   "metadata": {
    "scrolled": false
   },
   "outputs": [],
   "source": [
    "Juice      =       [   5000    ,   1/10  ,   0. ]\n",
    "Soy        =       [   7000    ,   1/10  ,   0. ]\n",
    "Fish       =       [   12000   ,   1/10  ,   0. ]\n",
    "OliveOil   =       [   10000   ,   1/10  ,   0. ]\n",
    "Cacao      =       [   5000    ,   1/10  ,   0. ]\n",
    "Coffee     =       [   5000    ,   1/10  ,   0. ]\n",
    "\n",
    "rev=[0]*S\n",
    "fig=figure(figsize=(20,10))\n",
    "JuicyChain=model(Juice)\n",
    "plot(Years, JuicyChain[0:-2] , label=\"Juicychain\" , color=\"orange\")\n",
    "SoyChain=model(Soy)\n",
    "plot(Years, SoyChain[0:-2], label=\"SoyChain\", color=\"green\")\n",
    "FishChain=model(Fish)\n",
    "plot(Years, FishChain[0:-2], label=\"FishChain\", color=\"blue\")\n",
    "OliveOilChain=model(OliveOil)\n",
    "plot(Years, OliveOilChain[0:-2], label=\"OliveOilChain\")\n",
    "CoffeeChain=model(Coffee)\n",
    "plot(Years, CoffeeChain[0:-2], label=\"CoffeeChain\")\n",
    "CacaoChain=model(Cacao)\n",
    "plot(Years, CacaoChain[0:-2], label=\"CacaoChain\") \n",
    "xlabel(\"Years\")\n",
    "ylabel(\"Investors\")\n",
    "legend(frameon=False)\n",
    "axes=fig.add_axes([0.13, 0.6, 0.28, 0.35])\n",
    "axes.plot(Years, rev, color='r')\n",
    "axes.axhline(y=Threshold,color='b')\n",
    "axes.text(1.,Threshold +1,'5 Millions')\n",
    "xlabel(\"Years\")\n",
    "ylabel(str(tokenscale)+\" €\")\n",
    "tight_layout()\n",
    "\n"
   ]
  },
  {
   "cell_type": "code",
   "execution_count": 8,
   "id": "21ae2fee",
   "metadata": {},
   "outputs": [],
   "source": [
    "#Scenario 3.5(BCS): 6 companies join each delayed 1 year"
   ]
  },
  {
   "cell_type": "code",
   "execution_count": 9,
   "id": "09e0a730",
   "metadata": {},
   "outputs": [
    {
     "ename": "ValueError",
     "evalue": "x and y must have same first dimension, but have shapes (104,) and (102,)",
     "output_type": "error",
     "traceback": [
      "\u001b[0;31m---------------------------------------------------------------------------\u001b[0m",
      "\u001b[0;31mValueError\u001b[0m                                Traceback (most recent call last)",
      "Input \u001b[0;32mIn [9]\u001b[0m, in \u001b[0;36m<cell line: 16>\u001b[0;34m()\u001b[0m\n\u001b[1;32m     14\u001b[0m fig\u001b[38;5;241m=\u001b[39mfigure(figsize\u001b[38;5;241m=\u001b[39m(\u001b[38;5;241m20\u001b[39m,\u001b[38;5;241m10\u001b[39m))\n\u001b[1;32m     15\u001b[0m JuicyChain\u001b[38;5;241m=\u001b[39mmodel(Juice)\n\u001b[0;32m---> 16\u001b[0m \u001b[43mplot\u001b[49m\u001b[43m(\u001b[49m\u001b[43mYears\u001b[49m\u001b[43m,\u001b[49m\u001b[43m \u001b[49m\u001b[43mJuicyChain\u001b[49m\u001b[43m[\u001b[49m\u001b[38;5;241;43m0\u001b[39;49m\u001b[43m:\u001b[49m\u001b[38;5;241;43m-\u001b[39;49m\u001b[38;5;241;43m2\u001b[39;49m\u001b[43m]\u001b[49m\u001b[43m \u001b[49m\u001b[43m,\u001b[49m\u001b[43m \u001b[49m\u001b[43mlabel\u001b[49m\u001b[38;5;241;43m=\u001b[39;49m\u001b[38;5;124;43m\"\u001b[39;49m\u001b[38;5;124;43mJuicychain\u001b[39;49m\u001b[38;5;124;43m\"\u001b[39;49m\u001b[43m \u001b[49m\u001b[43m,\u001b[49m\u001b[43m \u001b[49m\u001b[43mcolor\u001b[49m\u001b[38;5;241;43m=\u001b[39;49m\u001b[38;5;124;43m\"\u001b[39;49m\u001b[38;5;124;43morange\u001b[39;49m\u001b[38;5;124;43m\"\u001b[39;49m\u001b[43m)\u001b[49m\n\u001b[1;32m     17\u001b[0m \u001b[38;5;66;03m# SoyChain=model(Soy)\u001b[39;00m\n\u001b[1;32m     18\u001b[0m \u001b[38;5;66;03m# plot(Years, SoyChain[0:-2], label=\"SoyChain\", color=\"green\")\u001b[39;00m\n\u001b[1;32m     19\u001b[0m FishChain\u001b[38;5;241m=\u001b[39mmodel(Fish)\n",
      "File \u001b[0;32m~/Documents/jupyternotebook/jupyterenv/lib/python3.8/site-packages/matplotlib/pyplot.py:2769\u001b[0m, in \u001b[0;36mplot\u001b[0;34m(scalex, scaley, data, *args, **kwargs)\u001b[0m\n\u001b[1;32m   2767\u001b[0m \u001b[38;5;129m@_copy_docstring_and_deprecators\u001b[39m(Axes\u001b[38;5;241m.\u001b[39mplot)\n\u001b[1;32m   2768\u001b[0m \u001b[38;5;28;01mdef\u001b[39;00m \u001b[38;5;21mplot\u001b[39m(\u001b[38;5;241m*\u001b[39margs, scalex\u001b[38;5;241m=\u001b[39m\u001b[38;5;28;01mTrue\u001b[39;00m, scaley\u001b[38;5;241m=\u001b[39m\u001b[38;5;28;01mTrue\u001b[39;00m, data\u001b[38;5;241m=\u001b[39m\u001b[38;5;28;01mNone\u001b[39;00m, \u001b[38;5;241m*\u001b[39m\u001b[38;5;241m*\u001b[39mkwargs):\n\u001b[0;32m-> 2769\u001b[0m     \u001b[38;5;28;01mreturn\u001b[39;00m \u001b[43mgca\u001b[49m\u001b[43m(\u001b[49m\u001b[43m)\u001b[49m\u001b[38;5;241;43m.\u001b[39;49m\u001b[43mplot\u001b[49m\u001b[43m(\u001b[49m\n\u001b[1;32m   2770\u001b[0m \u001b[43m        \u001b[49m\u001b[38;5;241;43m*\u001b[39;49m\u001b[43margs\u001b[49m\u001b[43m,\u001b[49m\u001b[43m \u001b[49m\u001b[43mscalex\u001b[49m\u001b[38;5;241;43m=\u001b[39;49m\u001b[43mscalex\u001b[49m\u001b[43m,\u001b[49m\u001b[43m \u001b[49m\u001b[43mscaley\u001b[49m\u001b[38;5;241;43m=\u001b[39;49m\u001b[43mscaley\u001b[49m\u001b[43m,\u001b[49m\n\u001b[1;32m   2771\u001b[0m \u001b[43m        \u001b[49m\u001b[38;5;241;43m*\u001b[39;49m\u001b[38;5;241;43m*\u001b[39;49m\u001b[43m(\u001b[49m\u001b[43m{\u001b[49m\u001b[38;5;124;43m\"\u001b[39;49m\u001b[38;5;124;43mdata\u001b[39;49m\u001b[38;5;124;43m\"\u001b[39;49m\u001b[43m:\u001b[49m\u001b[43m \u001b[49m\u001b[43mdata\u001b[49m\u001b[43m}\u001b[49m\u001b[43m \u001b[49m\u001b[38;5;28;43;01mif\u001b[39;49;00m\u001b[43m \u001b[49m\u001b[43mdata\u001b[49m\u001b[43m \u001b[49m\u001b[38;5;129;43;01mis\u001b[39;49;00m\u001b[43m \u001b[49m\u001b[38;5;129;43;01mnot\u001b[39;49;00m\u001b[43m \u001b[49m\u001b[38;5;28;43;01mNone\u001b[39;49;00m\u001b[43m \u001b[49m\u001b[38;5;28;43;01melse\u001b[39;49;00m\u001b[43m \u001b[49m\u001b[43m{\u001b[49m\u001b[43m}\u001b[49m\u001b[43m)\u001b[49m\u001b[43m,\u001b[49m\u001b[43m \u001b[49m\u001b[38;5;241;43m*\u001b[39;49m\u001b[38;5;241;43m*\u001b[39;49m\u001b[43mkwargs\u001b[49m\u001b[43m)\u001b[49m\n",
      "File \u001b[0;32m~/Documents/jupyternotebook/jupyterenv/lib/python3.8/site-packages/matplotlib/axes/_axes.py:1632\u001b[0m, in \u001b[0;36mAxes.plot\u001b[0;34m(self, scalex, scaley, data, *args, **kwargs)\u001b[0m\n\u001b[1;32m   1390\u001b[0m \u001b[38;5;124;03m\"\"\"\u001b[39;00m\n\u001b[1;32m   1391\u001b[0m \u001b[38;5;124;03mPlot y versus x as lines and/or markers.\u001b[39;00m\n\u001b[1;32m   1392\u001b[0m \n\u001b[0;32m   (...)\u001b[0m\n\u001b[1;32m   1629\u001b[0m \u001b[38;5;124;03m(``'green'``) or hex strings (``'#008000'``).\u001b[39;00m\n\u001b[1;32m   1630\u001b[0m \u001b[38;5;124;03m\"\"\"\u001b[39;00m\n\u001b[1;32m   1631\u001b[0m kwargs \u001b[38;5;241m=\u001b[39m cbook\u001b[38;5;241m.\u001b[39mnormalize_kwargs(kwargs, mlines\u001b[38;5;241m.\u001b[39mLine2D)\n\u001b[0;32m-> 1632\u001b[0m lines \u001b[38;5;241m=\u001b[39m [\u001b[38;5;241m*\u001b[39m\u001b[38;5;28mself\u001b[39m\u001b[38;5;241m.\u001b[39m_get_lines(\u001b[38;5;241m*\u001b[39margs, data\u001b[38;5;241m=\u001b[39mdata, \u001b[38;5;241m*\u001b[39m\u001b[38;5;241m*\u001b[39mkwargs)]\n\u001b[1;32m   1633\u001b[0m \u001b[38;5;28;01mfor\u001b[39;00m line \u001b[38;5;129;01min\u001b[39;00m lines:\n\u001b[1;32m   1634\u001b[0m     \u001b[38;5;28mself\u001b[39m\u001b[38;5;241m.\u001b[39madd_line(line)\n",
      "File \u001b[0;32m~/Documents/jupyternotebook/jupyterenv/lib/python3.8/site-packages/matplotlib/axes/_base.py:312\u001b[0m, in \u001b[0;36m_process_plot_var_args.__call__\u001b[0;34m(self, data, *args, **kwargs)\u001b[0m\n\u001b[1;32m    310\u001b[0m     this \u001b[38;5;241m+\u001b[39m\u001b[38;5;241m=\u001b[39m args[\u001b[38;5;241m0\u001b[39m],\n\u001b[1;32m    311\u001b[0m     args \u001b[38;5;241m=\u001b[39m args[\u001b[38;5;241m1\u001b[39m:]\n\u001b[0;32m--> 312\u001b[0m \u001b[38;5;28;01myield from\u001b[39;00m \u001b[38;5;28;43mself\u001b[39;49m\u001b[38;5;241;43m.\u001b[39;49m\u001b[43m_plot_args\u001b[49m\u001b[43m(\u001b[49m\u001b[43mthis\u001b[49m\u001b[43m,\u001b[49m\u001b[43m \u001b[49m\u001b[43mkwargs\u001b[49m\u001b[43m)\u001b[49m\n",
      "File \u001b[0;32m~/Documents/jupyternotebook/jupyterenv/lib/python3.8/site-packages/matplotlib/axes/_base.py:498\u001b[0m, in \u001b[0;36m_process_plot_var_args._plot_args\u001b[0;34m(self, tup, kwargs, return_kwargs)\u001b[0m\n\u001b[1;32m    495\u001b[0m     \u001b[38;5;28mself\u001b[39m\u001b[38;5;241m.\u001b[39maxes\u001b[38;5;241m.\u001b[39myaxis\u001b[38;5;241m.\u001b[39mupdate_units(y)\n\u001b[1;32m    497\u001b[0m \u001b[38;5;28;01mif\u001b[39;00m x\u001b[38;5;241m.\u001b[39mshape[\u001b[38;5;241m0\u001b[39m] \u001b[38;5;241m!=\u001b[39m y\u001b[38;5;241m.\u001b[39mshape[\u001b[38;5;241m0\u001b[39m]:\n\u001b[0;32m--> 498\u001b[0m     \u001b[38;5;28;01mraise\u001b[39;00m \u001b[38;5;167;01mValueError\u001b[39;00m(\u001b[38;5;124mf\u001b[39m\u001b[38;5;124m\"\u001b[39m\u001b[38;5;124mx and y must have same first dimension, but \u001b[39m\u001b[38;5;124m\"\u001b[39m\n\u001b[1;32m    499\u001b[0m                      \u001b[38;5;124mf\u001b[39m\u001b[38;5;124m\"\u001b[39m\u001b[38;5;124mhave shapes \u001b[39m\u001b[38;5;132;01m{\u001b[39;00mx\u001b[38;5;241m.\u001b[39mshape\u001b[38;5;132;01m}\u001b[39;00m\u001b[38;5;124m and \u001b[39m\u001b[38;5;132;01m{\u001b[39;00my\u001b[38;5;241m.\u001b[39mshape\u001b[38;5;132;01m}\u001b[39;00m\u001b[38;5;124m\"\u001b[39m)\n\u001b[1;32m    500\u001b[0m \u001b[38;5;28;01mif\u001b[39;00m x\u001b[38;5;241m.\u001b[39mndim \u001b[38;5;241m>\u001b[39m \u001b[38;5;241m2\u001b[39m \u001b[38;5;129;01mor\u001b[39;00m y\u001b[38;5;241m.\u001b[39mndim \u001b[38;5;241m>\u001b[39m \u001b[38;5;241m2\u001b[39m:\n\u001b[1;32m    501\u001b[0m     \u001b[38;5;28;01mraise\u001b[39;00m \u001b[38;5;167;01mValueError\u001b[39;00m(\u001b[38;5;124mf\u001b[39m\u001b[38;5;124m\"\u001b[39m\u001b[38;5;124mx and y can be no greater than 2D, but have \u001b[39m\u001b[38;5;124m\"\u001b[39m\n\u001b[1;32m    502\u001b[0m                      \u001b[38;5;124mf\u001b[39m\u001b[38;5;124m\"\u001b[39m\u001b[38;5;124mshapes \u001b[39m\u001b[38;5;132;01m{\u001b[39;00mx\u001b[38;5;241m.\u001b[39mshape\u001b[38;5;132;01m}\u001b[39;00m\u001b[38;5;124m and \u001b[39m\u001b[38;5;132;01m{\u001b[39;00my\u001b[38;5;241m.\u001b[39mshape\u001b[38;5;132;01m}\u001b[39;00m\u001b[38;5;124m\"\u001b[39m)\n",
      "\u001b[0;31mValueError\u001b[0m: x and y must have same first dimension, but have shapes (104,) and (102,)"
     ]
    },
    {
     "data": {
      "image/png": "[encoded data removed]",
      "text/plain": [
       "<Figure size 1440x720 with 1 Axes>"
      ]
     },
     "metadata": {
      "needs_background": "light"
     },
     "output_type": "display_data"
    }
   ],
   "source": [
    "Juice      =       [   5000    ,   1/10  ,   0. ]\n",
    "#Soy        =       [   7000    ,   1/10  ,   1. ]\n",
    "Fish       =       [   15000   ,   1/10  ,   0.25 ]\n",
    "OliveOil   =       [   1000   ,   1/10  ,   0.5 ]\n",
    "Cacao      =       [   2000    ,   1/10  ,   0.75 ]\n",
    "#Coffee     =       [   5000    ,   1/10  ,   5. ]\n",
    "\n",
    "\n",
    "# olive oil \t12\t1000\n",
    "# fish \t552\t15000\n",
    "# cacao\t18\t2000\n",
    "\n",
    "rev=[0]*S\n",
    "fig=figure(figsize=(20,10))\n",
    "JuicyChain=model(Juice)\n",
    "plot(Years, JuicyChain[0:-2] , label=\"Juicychain\" , color=\"orange\")\n",
    "# SoyChain=model(Soy)\n",
    "# plot(Years, SoyChain[0:-2], label=\"SoyChain\", color=\"green\")\n",
    "FishChain=model(Fish)\n",
    "plot(Years, FishChain[0:-2], label=\"FishChain\", color=\"blue\")\n",
    "OliveOilChain=model(OliveOil)\n",
    "plot(Years, OliveOilChain[0:-2], label=\"OliveOilChain\")\n",
    "# CoffeeChain=model(Coffee)\n",
    "# plot(Years, CoffeeChain[0:-2], label=\"CoffeeChain\")\n",
    "CacaoChain=model(Cacao)\n",
    "plot(Years, CacaoChain[0:-2], label=\"CacaoChain\") \n",
    "xlabel(\"Years\")\n",
    "ylabel(\"Investors\")\n",
    "legend(frameon=False)\n",
    "axes=fig.add_axes([0.13, 0.6, 0.28, 0.35])\n",
    "axes.plot(Years, rev, color='r')\n",
    "axes.axhline(y=Threshold,color='b')\n",
    "axes.text(1.,Threshold +1,'5 Millions')\n",
    "xlabel(\"Years\")\n",
    "ylabel(str(tokenscale)+\" €\")\n",
    "tight_layout()\n"
   ]
  },
  {
   "cell_type": "code",
   "execution_count": 10,
   "id": "8e2dc20a",
   "metadata": {},
   "outputs": [],
   "source": [
    "# Custom Scenario: make you own"
   ]
  },
  {
   "cell_type": "code",
   "execution_count": 11,
   "id": "04e28047",
   "metadata": {},
   "outputs": [],
   "source": [
    "\n",
    "#Industry     #      Investors ,    %    ,  onboaring delay (Years)\n",
    "\n",
    "# Juice      =       [   5000    ,   1/10  ,   0.    ]\n",
    "# Soy        =       [   7000    ,   1/10  ,   1.    ]\n",
    "# Fish       =       [   12000   ,   1/10  ,   0.  ]\n",
    "# Cacao      =       [   5000    ,   1/10  ,   0.    ]\n",
    "# PetFood    =       [   5000    ,   1/10  ,   3.    ]\n",
    "# Eggs       =       [   5000    ,   1/10  ,   5.    ]\n",
    "# Coffee     =       [   5000    ,   1/10  ,   6.    ] \n",
    "# Fruits     =       [   5000    ,   1/10  ,   5.    ]\n",
    "# Vegetables =       [   5000    ,   1/10  ,   4.    ]\n",
    "# Potato     =       [   5000    ,   1/10  ,   3.    ]\n",
    "# Rice       =       [   5000    ,   1/10  ,   2.    ]\n",
    "# Chef       =       [   5000    ,   1/30  ,   1.    ]\n",
    "# OliveOil   =       [   10000   ,   1/10  ,   0.    ]\n",
    "# Custom     =       [      10   ,   1/10  ,   0.    ]\n",
    "\n",
    "\n",
    "# rev=[0]*S\n",
    "# fig=figure(figsize=(20,10))\n",
    "\n",
    "# JuicyChain=model(Juice)\n",
    "# plot(Years, JuicyChain[0:-2] , label=\"Juicychain\" , color=\"orange\")\n",
    "\n",
    "# SoyChain=model(Soy)\n",
    "# plot(Years, SoyChain[0:-2], label=\"SoyChain\", color=\"green\")\n",
    "\n",
    "# FishChain=model(Fish)\n",
    "# plot(Years, FishChain[0:-2], label=\"FishChain\", color=\"blue\")\n",
    "\n",
    "# OliveOilChain=model(OliveOil)\n",
    "# plot(Years, OliveOilChain[0:-2], label=\"OliveOilChain\")\n",
    "\n",
    "# CacaoChain=model(Cacao)\n",
    "# plot(Years, CacaoChain[0:-2], label=\"CacaoChain\")\n",
    "\n",
    "# PetChain=model(PetFood)\n",
    "# plot(Years, PetChain[0:-2], label=\"PetChain\")\n",
    "\n",
    "# EggChain=model(Eggs)\n",
    "# plot(Years, EggChain[0:-2], label=\"EggChain\")\n",
    "\n",
    "# CoffeeChain=model(Coffee)\n",
    "# plot(Years, CoffeeChain[0:-2], label=\"CoffeeChain\")\n",
    "\n",
    "# EggChain=model(Fruits)\n",
    "# plot(Years, EggChain[0:-2], label=\"EggChain\")\n",
    "\n",
    "# VegChain=model(Vegetables)\n",
    "# plot(Years, VegChain[0:-2], label=\"VegChain\")\n",
    "\n",
    "# PotatoChain=model(Potato)\n",
    "# plot(Years, PotatoChain[0:-2], label=\"PotatoChain\")\n",
    "\n",
    "# RiceChain=model(Rice)\n",
    "# plot(Years, RiceChain[0:-2], label=\"RiceChain\")\n",
    "\n",
    "# ChefChain=model(Chef)\n",
    "# plot(Years, ChefChain[0:-2], label=\"ChefChain\")\n",
    "\n",
    "# CustomChain=model(Custom)\n",
    "# plot(Years, CustomChain[0:-2], label=\"CustomChain\")\n",
    "\n",
    "# xlabel(\"Years\")\n",
    "# ylabel(\"Investors\")\n",
    "# legend(frameon=False)\n",
    "# axes=fig.add_axes([0.13, 0.6, 0.28, 0.35])\n",
    "# axes.plot(Years, rev, color='r')\n",
    "# axes.axhline(y=Threshold,color='b')\n",
    "# axes.text(1.,Threshold +1,'5 Millions')\n",
    "# xlabel(\"Years\")\n",
    "# ylabel(str(tokenscale)+\" €\")\n",
    "# tight_layout()"
   ]
  },
  {
   "cell_type": "code",
   "execution_count": 12,
   "id": "3ac08369",
   "metadata": {},
   "outputs": [],
   "source": [
    "#scenarios overlap 1, 2.5, 3.5 "
   ]
  },
  {
   "cell_type": "code",
   "execution_count": 13,
   "id": "cf42c7e1",
   "metadata": {},
   "outputs": [
    {
     "data": {
      "image/png": "[encoded data removed]",
      "text/plain": [
       "<Figure size 1800x864 with 1 Axes>"
      ]
     },
     "metadata": {
      "needs_background": "light"
     },
     "output_type": "display_data"
    }
   ],
   "source": [
    "fig=figure(figsize=(25,12))\n",
    "\n",
    "\n",
    "# #Delayed\n",
    "# Juice      =       [   5000    ,   1/10  ,   0. ]\n",
    "# Soy        =       [   7000    ,   1/10  ,   1. ]\n",
    "# Fish       =       [   12000   ,   1/10  ,   2. ]\n",
    "# OliveOil   =       [   10000   ,   1/10  ,   3. ]\n",
    "# Cacao      =       [   5000    ,   1/10  ,   4. ]\n",
    "# Coffee     =       [   5000    ,   1/10  ,   5. ]\n",
    "\n",
    "\n",
    "Juice      =       [   5000    ,   1/10  ,   0.   ]\n",
    "Fish       =       [   15000   ,   1/10  ,   0.25 ]\n",
    "OliveOil   =       [   1000    ,   1/10  ,   0.5  ]\n",
    "Cacao      =       [   2000    ,   1/10  ,   0.75 ]\n",
    "Soy        =       [   5000    ,   1/10  ,   1.   ]\n",
    "Coffee     =       [   3000    ,   1/10  ,   1.25 ]\n",
    "\n",
    "#Simultaneous\n",
    "# Juice      =       [   5000    ,   1/10  ,   0. ]\n",
    "# Soy        =       [   7000    ,   1/10  ,   0. ]\n",
    "# Fish       =       [   12000   ,   1/10  ,   0. ]\n",
    "# OliveOil   =       [   10000   ,   1/10  ,   0. ]\n",
    "# Cacao      =       [   5000    ,   1/10  ,   0. ]\n",
    "# Coffee     =       [   5000    ,   1/10  ,   0. ]\n",
    "\n",
    "\n",
    "rev=[0]*S\n",
    "JuicyChain=model(Juice)\n",
    "plot(Years, rev,label='JuicyChain adoption ', color='#e07c7c',linewidth=6)\n",
    "\n",
    "rev=[0]*S\n",
    "JuicyChain=model(Juice)\n",
    "#SoyChain=model(Soy)\n",
    "OliveChain=model(OliveOil)\n",
    "FishChain=model(Fish)\n",
    "plot(Years, rev,label='Three industry adoption', color='violet',linewidth=6)\n",
    "\n",
    "rev=[0]*S\n",
    "JuicyChain=model(Juice)\n",
    "SoyChain=model(Soy)\n",
    "FishChain=model(Fish)\n",
    "OliveOilChain=model(OliveOil)\n",
    "CoffeeChain=model(Coffee)\n",
    "HOrticultureChain=model(Cacao)\n",
    "plot(Years, rev, label='Six industry adoption', color='#6204ff',linewidth=6)\n",
    "\n",
    "#axhline(y=Threshold,color='black')\n",
    "#text(5.,Threshold +1,'5 Millions')\n",
    "\n",
    "grid(color='grey', linestyle='-', linewidth=0.2)\n",
    "#xlim(0)\n",
    "#xscale('log')\n",
    "#yscale('log')\n",
    "xlabel(\"Years\",fontsize=18)\n",
    "ylabel(\"Million €\",fontsize=18)\n",
    "legend(frameon=False,fontsize=18)\n",
    "tight_layout()"
   ]
  },
  {
   "cell_type": "code",
   "execution_count": 109,
   "id": "c95fe752",
   "metadata": {},
   "outputs": [],
   "source": [
    "# CacaoChain=model(Cacao)\n",
    "# plot(Years, CacaoChain[0:-2], label=\"CacaoChain\")\n",
    "# show()\n",
    "\n",
    "# PetChain=model(PetFood)\n",
    "# plot(Years, PetChain[0:-2], label=\"PetChain\")\n",
    "# show()\n",
    "\n",
    "# EggChain=model(Eggs)\n",
    "# plot(Years, EggChain[0:-2], label=\"EggChain\")\n",
    "# show()\n",
    "\n",
    "# CoffeeChain=model(Coffee)\n",
    "# plot(Years, CoffeeChain[0:-2], label=\"CoffeeChain\")\n",
    "# show()\n",
    "\n",
    "# EggChain=model(Fruits)\n",
    "# plot(Years, ChefChain[0:-2], label=\"EggChain\")\n",
    "# show()\n",
    "\n",
    "# VegChain=model(Vegetables)\n",
    "# plot(Years, ChefChain[0:-2], label=\"VegChain\")\n",
    "# show()\n",
    "\n",
    "# PotatoChain=model(Potato)\n",
    "# plot(Years, ChefChain[0:-2], label=\"PotatoChain\")\n",
    "# show()\n",
    "\n",
    "# RiceChain=model(Rice)\n",
    "# plot(Years, ChefChain[0:-2], label=\"RiceChain\")\n",
    "# show()\n",
    "\n",
    "# ChefChain=model(Chef)\n",
    "# plot(Years, ChefChain[0:-2], label=\"ChefChain\")\n",
    "# show()"
   ]
  },
  {
   "cell_type": "code",
   "execution_count": null,
   "id": "db9acd5c",
   "metadata": {},
   "outputs": [],
   "source": []
  },
  {
   "cell_type": "code",
   "execution_count": null,
   "id": "0f1b46b1",
   "metadata": {},
   "outputs": [],
   "source": []
  },
  {
   "cell_type": "code",
   "execution_count": null,
   "id": "31f645e9",
   "metadata": {},
   "outputs": [],
   "source": []
  },
  {
   "cell_type": "code",
   "execution_count": null,
   "id": "db429fa0",
   "metadata": {},
   "outputs": [],
   "source": []
  },
  {
   "cell_type": "code",
   "execution_count": null,
   "id": "f9707afd",
   "metadata": {},
   "outputs": [],
   "source": []
  },
  {
   "cell_type": "code",
   "execution_count": null,
   "id": "8cbccc4a",
   "metadata": {},
   "outputs": [],
   "source": []
  },
  {
   "cell_type": "code",
   "execution_count": null,
   "id": "aa527209",
   "metadata": {},
   "outputs": [],
   "source": []
  }
 ],
 "metadata": {
  "kernelspec": {
   "display_name": "Python 3 (ipykernel)",
   "language": "python",
   "name": "python3"
  },
  "language_info": {
   "codemirror_mode": {
    "name": "ipython",
    "version": 3
   },
   "file_extension": ".py",
   "mimetype": "text/x-python",
   "name": "python",
   "nbconvert_exporter": "python",
   "pygments_lexer": "ipython3",
   "version": "3.8.10"
  }
 },
 "nbformat": 4,
 "nbformat_minor": 5
}
