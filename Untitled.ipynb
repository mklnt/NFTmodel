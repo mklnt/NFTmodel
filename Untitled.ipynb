{
 "cells": [
  {
   "cell_type": "code",
   "execution_count": null,
   "id": "4bd0d0d0",
   "metadata": {},
   "outputs": [],
   "source": [
    "import math etc"
   ]
  },
  {
   "cell_type": "code",
   "execution_count": null,
   "id": "ed030517",
   "metadata": {},
   "outputs": [],
   "source": [
    "total=[0]\n",
    "Global=0\n",
    "for i in range(1, N):\n",
    "    total.append(total[i-1] + 1/i)\n",
    "    \n",
    "for t in range(0, len(total)):\n",
    "    Global= Global + total[t]\n",
    "    \n",
    "Market\n",
    "    "
   ]
  }
 ],
 "metadata": {
  "kernelspec": {
   "display_name": "Python 3 (ipykernel)",
   "language": "python",
   "name": "python3"
  },
  "language_info": {
   "codemirror_mode": {
    "name": "ipython",
    "version": 3
   },
   "file_extension": ".py",
   "mimetype": "text/x-python",
   "name": "python",
   "nbconvert_exporter": "python",
   "pygments_lexer": "ipython3",
   "version": "3.8.10"
  }
 },
 "nbformat": 4,
 "nbformat_minor": 5
}
